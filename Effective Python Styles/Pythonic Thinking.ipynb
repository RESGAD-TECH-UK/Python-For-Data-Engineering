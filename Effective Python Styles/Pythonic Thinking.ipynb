{
 "cells": [
  {
   "cell_type": "markdown",
   "metadata": {
    "application/vnd.databricks.v1+cell": {
     "cellMetadata": {},
     "inputWidgets": {},
     "nuid": "519d74b2-83be-49d1-acb4-3a1b5c3f3e53",
     "showTitle": false,
     "tableResultSettingsMap": {},
     "title": ""
    }
   },
   "source": [
    "# Write Helper Functions Instead of Complex Expressions\n",
    "Python allows writing very compact, one-line expressions — but these can quickly become unreadable when they contain too much logic (for example, using get(), indexing, or, and int() all together).\n",
    "\n",
    "Instead of trying to do everything inline, move the logic into a helper function. This improves clarity, reusability, and maintainability.\n",
    "\n",
    "Below: \n",
    "\n",
    "**urllib.parse**: A Python standard library for parsing URLs.\n",
    "\n",
    "**parse_qs()**: Converts a URL query string (e.g., \"red=5&blue=0&green=\") into a dictionary where keys are parameter names and values are lists of strings.\n",
    "\n",
    "```python\n",
    "s = \"hello\\nworld\"\n",
    "print(str(s))   # Shows the actual newline\n",
    "print(repr(s))  # Shows the escape sequence\n",
    "```\n"
   ]
  },
  {
   "cell_type": "code",
   "execution_count": 0,
   "metadata": {
    "application/vnd.databricks.v1+cell": {
     "cellMetadata": {
      "byteLimit": 2048000,
      "rowLimit": 10000
     },
     "inputWidgets": {},
     "nuid": "03ae25a7-7ee5-430e-9931-8868aed5ad06",
     "showTitle": false,
     "tableResultSettingsMap": {},
     "title": ""
    }
   },
   "outputs": [],
   "source": [
    "from urllib.parse import parse_qs\n",
    "\n",
    "my_values = parse_qs(\"red=5&blue=0&green=\", keep_blank_values=True)\n",
    "print(repr(my_values))\n",
    "\n"
   ]
  },
  {
   "cell_type": "markdown",
   "metadata": {
    "application/vnd.databricks.v1+cell": {
     "cellMetadata": {},
     "inputWidgets": {},
     "nuid": "d160b893-89eb-4f94-a3dd-f7bebae6c1e2",
     "showTitle": false,
     "tableResultSettingsMap": {},
     "title": ""
    }
   },
   "source": [
    "### Data Engineering Implementation: \n",
    "**Clean and normalize product prices before loading to a warehouse**\n",
    "You need to:\n",
    "- Remove currency symbols and commas\n",
    "- Convert prices to float\n",
    "- Replace invalid or missing values with None"
   ]
  },
  {
   "cell_type": "code",
   "execution_count": 0,
   "metadata": {
    "application/vnd.databricks.v1+cell": {
     "cellMetadata": {},
     "inputWidgets": {},
     "nuid": "f5206142-4aca-45c1-885d-95aa9236ba34",
     "showTitle": false,
     "tableResultSettingsMap": {},
     "title": ""
    }
   },
   "outputs": [],
   "source": [
    "def clean_price(value):\n",
    "    \"\"\"Convert messy price strings to float, or None if invalid.\"\"\"\n",
    "    if not isinstance(value, str):\n",
    "        return None\n",
    "    cleaned = value.replace(\"$\", \"\").replace(\"£\", \"\").replace(\",\", \"\").strip()\n",
    "    try:\n",
    "        return float(cleaned)\n",
    "    except ValueError:\n",
    "        return None\n",
    "    \n",
    "# Now your transformation is simple and readable:\n",
    "\n",
    "df[\"clean_price\"] = df[\"price\"].apply(clean_price)"
   ]
  },
  {
   "cell_type": "markdown",
   "metadata": {
    "application/vnd.databricks.v1+cell": {
     "cellMetadata": {},
     "inputWidgets": {},
     "nuid": "450af490-9970-4080-a5fe-03b4e4c0d462",
     "showTitle": false,
     "tableResultSettingsMap": {},
     "title": ""
    }
   },
   "source": []
  }
 ],
 "metadata": {
  "application/vnd.databricks.v1+notebook": {
   "computePreferences": null,
   "dashboards": [],
   "environmentMetadata": {
    "base_environment": "",
    "environment_version": "4"
   },
   "inputWidgetPreferences": null,
   "language": "python",
   "notebookMetadata": {
    "pythonIndentUnit": 4
   },
   "notebookName": "Pythonic Thinking",
   "widgets": {}
  },
  "language_info": {
   "name": "python"
  }
 },
 "nbformat": 4,
 "nbformat_minor": 0
}
